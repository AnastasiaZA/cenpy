{
 "cells": [
  {
   "cell_type": "code",
   "execution_count": 211,
   "metadata": {
    "collapsed": false
   },
   "outputs": [
    {
     "data": {
      "text/plain": [
       "<module 'sf1_2010' from 'sf1_2010.py'>"
      ]
     },
     "execution_count": 211,
     "metadata": {},
     "output_type": "execute_result"
    }
   ],
   "source": [
    "import pandas as pd\n",
    "import sf1_2010; reload(sf1_2010)"
   ]
  },
  {
   "cell_type": "code",
   "execution_count": 212,
   "metadata": {
    "collapsed": false,
    "scrolled": true
   },
   "outputs": [
    {
     "name": "stdout",
     "output_type": "stream",
     "text": [
      "reading geoheader...\n",
      "converting to dataframe...\n"
     ]
    }
   ],
   "source": [
    "q = sf1_2010.parse_geoheader('../../demo_AZ2010sf1/azgeo2010.sf1',verbose=True)"
   ]
  },
  {
   "cell_type": "code",
   "execution_count": 213,
   "metadata": {
    "collapsed": false
   },
   "outputs": [],
   "source": [
    "r = sf1_2010.parse_packlist('../../demo_AZ2010sf1/az2010.sf1.prd.packinglist.txt')"
   ]
  },
  {
   "cell_type": "code",
   "execution_count": 222,
   "metadata": {
    "collapsed": false
   },
   "outputs": [
    {
     "name": "stdout",
     "output_type": "stream",
     "text": [
      "FILEID\n",
      "STUSAB\n",
      "SUMLEV\n",
      "GEOCOMP\n",
      "CHARITER\n",
      "CIFSN\n",
      "LOGRECNO\n",
      "REGION\n",
      "DIVISION\n",
      "STATE\n",
      "COUNTY\n",
      "COUNTYCC\n",
      "COUNTYSC\n",
      "COUSUB\n",
      "COUSUBCC\n",
      "COUSUBSC\n",
      "PLACE\n",
      "PLACECC\n",
      "PLACESC\n",
      "TRACT\n",
      "BLKGRP\n",
      "BLOCK\n",
      "IUC\n",
      "CONCIT\n",
      "CONCITCC\n",
      "CONCITSC\n",
      "AIANHH\n",
      "AIANHHFP\n",
      "AIANHHCC\n",
      "AIHHTLI\n",
      "AITSCE\n",
      "AITS\n",
      "AITSCC\n",
      "TTRACT\n",
      "TBLKGRP\n",
      "ANRC\n",
      "ANRCCC\n",
      "CBSA\n",
      "CBSASC\n",
      "METDIV\n",
      "CSA\n",
      "NECTA\n",
      "NECTASC\n",
      "NECTADIV\n",
      "CNECTA\n",
      "CBSAPCI\n",
      "NECTAPCI\n",
      "UA\n",
      "UASC\n",
      "UATYPE\n",
      "UR\n",
      "CD\n",
      "SLDU\n",
      "SLDL\n",
      "VTD\n",
      "VTDI\n",
      "RESERVE2\n",
      "ZCTA5\n",
      "SUBMCD\n",
      "SUBMCDCC\n",
      "SDELM\n",
      "SDSEC\n",
      "SDUNI\n",
      "AREALAND\n",
      "AREAWATR\n",
      "NAME\n",
      "FUNCSTAT\n",
      "GCUNI\n",
      "POP100\n",
      "HU100\n",
      "INTPTLAT\n",
      "INTPTLON\n",
      "LSADC\n",
      "PARTFLAG\n",
      "RESERVE3\n",
      "UGA\n",
      "STATENS\n",
      "COUNTYNS\n",
      "COUSUBNS\n",
      "PLACENS\n",
      "CONCITNS\n",
      "AIANHHNS\n",
      "AITSNS\n",
      "ANRCNS\n",
      "SUBMCDNS\n",
      "CD113\n",
      "CD114\n",
      "CD115\n",
      "SLDU2\n",
      "SLDU3\n",
      "SLDU4\n",
      "SLDL2\n",
      "SLDL3\n",
      "SLDL4\n",
      "AIANHHSC\n",
      "CSASC\n",
      "CNECTASC\n",
      "MEMI\n",
      "NMEMI\n",
      "PUMA\n",
      "RESERVED\n"
     ]
    }
   ],
   "source": [
    "for x in q.columns:\n",
    "    print x"
   ]
  },
  {
   "cell_type": "code",
   "execution_count": 225,
   "metadata": {
    "collapsed": false
   },
   "outputs": [
    {
     "data": {
      "text/plain": [
       "24        1002\n",
       "25        1003\n",
       "26        1004\n",
       "27        1005\n",
       "28        1006\n",
       "29        1007\n",
       "30        1008\n",
       "31        1009\n",
       "32        1010\n",
       "33        1011\n",
       "34        1012\n",
       "35        1013\n",
       "36        1014\n",
       "37        1015\n",
       "38        1016\n",
       "39        1017\n",
       "40        1018\n",
       "41        1019\n",
       "43        2000\n",
       "44        2001\n",
       "45        2002\n",
       "46        2003\n",
       "47        2004\n",
       "48        2005\n",
       "49        2006\n",
       "50        2007\n",
       "51        2008\n",
       "52        2009\n",
       "53        2010\n",
       "54        2011\n",
       "          ... \n",
       "257020    2008\n",
       "257021    2009\n",
       "257022    2025\n",
       "257023    2026\n",
       "257024    2027\n",
       "257025    2028\n",
       "257026    2029\n",
       "257027    2030\n",
       "257028    2031\n",
       "257029    2032\n",
       "257030    2033\n",
       "257031    2034\n",
       "257032    2035\n",
       "257033    2036\n",
       "257034    2037\n",
       "257035    2052\n",
       "257036    2053\n",
       "257037    2054\n",
       "257038    2063\n",
       "257039    2064\n",
       "257042    1001\n",
       "257043    1003\n",
       "257044    1004\n",
       "257045    1005\n",
       "257046    1006\n",
       "257047    1076\n",
       "257048    1077\n",
       "257049    1116\n",
       "257050    1118\n",
       "257051    1141\n",
       "Name: BLOCK, dtype: object"
      ]
     },
     "execution_count": 225,
     "metadata": {},
     "output_type": "execute_result"
    }
   ],
   "source": []
  },
  {
   "cell_type": "code",
   "execution_count": null,
   "metadata": {
    "collapsed": true
   },
   "outputs": [],
   "source": []
  }
 ],
 "metadata": {
  "kernelspec": {
   "display_name": "Python 2",
   "language": "python",
   "name": "python2"
  },
  "language_info": {
   "codemirror_mode": {
    "name": "ipython",
    "version": 2
   },
   "file_extension": ".py",
   "mimetype": "text/x-python",
   "name": "python",
   "nbconvert_exporter": "python",
   "pygments_lexer": "ipython2",
   "version": "2.7.10"
  }
 },
 "nbformat": 4,
 "nbformat_minor": 0
}
