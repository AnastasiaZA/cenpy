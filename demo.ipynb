{
 "cells": [
  {
   "cell_type": "markdown",
   "metadata": {},
   "source": [
    "# Grabbing data with cenpy"
   ]
  },
  {
   "cell_type": "markdown",
   "metadata": {},
   "source": [
    "Cenpy (`sen - pie`) is a package that exposes APIs from the us Census Bureau and makes it easy to pull down and work with Census data in Pandas. First, notice that there are two core modules in the package, `base` and `explorer`, which each do different things. First, let's look at `explorer`. "
   ]
  },
  {
   "cell_type": "code",
   "execution_count": 1,
   "metadata": {
    "collapsed": false
   },
   "outputs": [],
   "source": [
    "import cenpy.explorer as explorer\n",
    "import pandas"
   ]
  },
  {
   "cell_type": "markdown",
   "metadata": {},
   "source": [
    "On import, `explorer` request a current version of the APIs available from the Census Bureau. In future, it can also read a `JSON` collection describing the databases from disk, if needed.\n",
    "\n",
    "Explorer has two functions, `available` and `explain`. `available` will provide a list of the identifiers of all the APIs that `cenpy` knows about. If run with `verbose=True`, `cenpy` will also include the title of the database as a dictionary. It's a good idea to *not* process this directly, and instead use it to explore currently available APIs. "
   ]
  },
  {
   "cell_type": "code",
   "execution_count": 2,
   "metadata": {
    "collapsed": false,
    "scrolled": true
   },
   "outputs": [
    {
     "data": {
      "text/plain": [
       "{u'1990sf1': u'1990 Decennial: Summary File 1',\n",
       " u'2000sf1': u'2000 Decennial: Summary File 1',\n",
       " u'2000sf3': u'2000 Decennial: Summary File 3',\n",
       " u'2010acs5': u'2010 American Community Survey: 5-Year Estimates',\n",
       " u'2010sf1': u'2010 Decennial: Summary File 1',\n",
       " u'2011acs5': u'2011 American Community Survey: 5-Year Estimates',\n",
       " u'2012acs1': u'2012 American Community Survey: 1-Year Estimates',\n",
       " u'2012acs1profile': u'2012 American Community Survey: 1-Year Profile Tables',\n",
       " u'2012acs3': u'2012 American Community Survey: 3-Year Estimates',\n",
       " u'2012acs3profile': u'2012 American Community Survey: 3-Year Profile Tables',\n",
       " u'2012acs5profile': u'2012 American Community Survey: 5-Year Profile Tables',\n",
       " u'2012popproj/births': u'Vintage 2012 Population Projections - : Projected Births',\n",
       " u'ACSCD1132011': u'2011 American Community Survey 1-Year Profiles for the 113th Congressional Districts',\n",
       " u'ACSProfile2013': u'2013 American Community Survey - Data Profiles: 1-Year Data Profile',\n",
       " u'ACSProfile3Y2013': u'2011-2013 American Community Survey - Data Profiles: 3-Year Data Profile',\n",
       " u'ACSProfile5Y2013': u'2009-2013 American Community Survey 5-Year Profiles',\n",
       " u'ACSSF2013': u'2013 American Community Survey - Summarized Data: 1-Year Summary File',\n",
       " u'ACSSF3Y2013': u'2011-2013 American Community Survey - Summarized Data: 3-Year Summary File',\n",
       " u'ACSSF5Y2012': u'2008-2012 American Community Survey - Summarized Data: 5-Year Summary File',\n",
       " u'ACSSF5Y2013': u'2009-2013 American Community Survey 5-Year Estimates',\n",
       " u'BDSFirms': u'Time Series Business Dynamics Statistics: Firm Statistics',\n",
       " u'CBP_2008': u'2008 County Business Patterns: Business Patterns',\n",
       " u'CBP_2009': u'2009 County Business Patterns: Business Patterns',\n",
       " u'CBP_2010': u'2010 County Business Patterns: Business Patterns',\n",
       " u'CBP_2011': u'2011 County Business Patterns: Business Patterns',\n",
       " u'CBP_2012': u'2012 County Business Patterns: Business Patterns',\n",
       " u'CBP_2013': u'2013 County Business Patterns: Business Patterns',\n",
       " u'DecennialSF31990': u'1990 Decennial Census of Population and Housing - Summary File 3: Summary File 3',\n",
       " u'EconCensusEWKS2002': u'2002 Economic Census - All Sectors: Economy-Wide Key Statistics',\n",
       " u'EconCensusEWKS2007': u'2007 Economic Census - All Sectors: Economy-Wide Key Statistics',\n",
       " u'EconCensusEWKS2012': u'2012 Economic Census - All Sectors: Economy-Wide Key Statistics',\n",
       " u'NONEMP2008': u'2008 Nonemployer Statistics: Non Employer Statistics',\n",
       " u'NONEMP2009': u'2009 Nonemployer Statistics: Non Employer Statistics',\n",
       " u'NONEMP2010': u'2010 Nonemployer Statistics: Non Employer Statistics',\n",
       " u'NONEMP2011': u'2011 Nonemployer Statistics: Non Employer Statistics',\n",
       " u'NONEMP2012': u'2012 Nonemployer Statistics: Non Employer Statistics',\n",
       " u'NONEMP2013': u'2013 Nonemployer Statistics: Non Employer Statistics',\n",
       " u'POPESTcochar52013': u'Vintage 2013 Population Estimates: County Population Estimates by 5 Year Age Groups, Sex, 5 Races, and Hispanic Origin',\n",
       " u'POPESTcochar62013': u'Vintage 2013 Population Estimates: County Population Estimates by 5 Year Age Groups, Sex, 6 Races, and Hispanic Origin',\n",
       " u'POPESTcty2013': u'Vintage 2013 Population Estimates: County Total Population and Components of Change',\n",
       " u'POPESTcty2014': u'Vintage 2014 Population Estimates: County Total Population and Components of Change',\n",
       " u'POPESThousing2013': u'Vintage 2013 Population Estimates: Housing Unit Estimates for US, States, and Counties',\n",
       " u'POPESThousing2014': u'Vintage 2014 Population Estimates: Housing Unit Estimates for US, States, and Counties',\n",
       " u'POPESTmonthlynatchar52013': u'Vintage 2013 Population Estimates: National Monthly Population Estimates by Single Year of Age , Sex, 5 Races, Hispanic Origin, and Universe',\n",
       " u'POPESTmonthlynatchar62013': u'Vintage 2013 Population Estimates: National Monthly Population Estimates by Single Year of Age, Sex, 6 Races, Hispanic Origin, and Universe',\n",
       " u'POPESTnatstprc182013': u'Vintage 2013 Population Estimates: US, State, and PR Population Age 18+',\n",
       " u'POPESTnatstprc182014': u'Vintage 2014 Population Estimates: US, State, and PR Population Age 18+',\n",
       " u'POPESTnatstprc2013': u'Vintage 2013 Population Estimates: US, State, and PR Total Population and Components of Change',\n",
       " u'POPESTnatstprc2014': u'Vintage 2014 Population Estimates: US, State, and PR Total Population and Components of Change',\n",
       " u'POPESTprcagesex2013': u'Vintage 2013 Population Estimates: Puerto Rico Commonwealth Estimates by Single Year of Age and Sex',\n",
       " u'POPESTprm2013': u'Vintage 2013 Population Estimates: Puerto Rico Municipios Total Population',\n",
       " u'POPESTprm2014': u'Vintage 2014 Population Estimates: Puerto Rico Municipios Total Population',\n",
       " u'POPESTprmagesex2013': u'Vintage 2013 Population Estimates: Puerto Rico Municipios Estimates by 5-Year Age Groups and Sex',\n",
       " u'POPESTstchar52013': u'Vintage 2013 Population Estimates: State Population Estimates by Single Year of Age, Sex, 5 Races, and Hispanic Origin',\n",
       " u'POPESTstchar62013': u'Vintage 2013 Population Estimates: State Population Estimates by Single Year of Age, Sex, 6 Races, and Hispanic Origin',\n",
       " u'POPESTsubcty2013': u'Vintage 2013 Population Estimates: Subcounty Population Places and MCDs',\n",
       " u'POPESTsubcty2014': u'Vintage 2014 Population Estimates: Subcounty Population Places and MCDs',\n",
       " u'POPPROJDeathsVintage2012': u'Vintage 2012 Population Projections: Projected Deaths',\n",
       " u'POPPROJNIMVintage2012': u'Vintage 2012 Population Projections: Projected Net International Migration by Single Year of age',\n",
       " u'POPPROJPopVintage2012': u'Vintage 2012 Population Projections: Projected Population by Single Year of Age',\n",
       " u'pubschlfin2012': u'2012 Public Elementary-Secondary Education Finance: Individual Unit Tables'}"
      ]
     },
     "execution_count": 2,
     "metadata": {},
     "output_type": "execute_result"
    }
   ],
   "source": [
    "explorer.available(verbose=True)"
   ]
  },
  {
   "cell_type": "markdown",
   "metadata": {},
   "source": [
    "The `explain` command provides the title and full description of the datasource. If run in verbose mode, the function returns the full `json` listing of the API. "
   ]
  },
  {
   "cell_type": "code",
   "execution_count": 3,
   "metadata": {
    "collapsed": false
   },
   "outputs": [
    {
     "data": {
      "text/plain": [
       "{u'2010 American Community Survey: 5-Year Estimates': u\"The American Community Survey (ACS) is a nationwide survey designed to provide communities a fresh look at how they are changing. The ACS replaced the decennial census long form in 2010 and thereafter by collecting long form type information throughout the decade rather than only once every 10 years.  Questionnaires are mailed to a sample of addresses to obtain information about households -- that is, about each person and the housing unit itself.  The American Community Survey produces demographic, social, housing and economic estimates in the form of 1-year, 3-year and 5-year estimates based on population thresholds. The strength of the ACS is in estimating population and housing characteristics. It produces estimates for small areas, including census tracts and population subgroups.  Although the ACS produces population, demographic and housing unit estimates,it is the Census Bureau's Population Estimates Program that produces and disseminates the official estimates of the population for the nation, states, counties, cities and towns, and estimates of housing units for states and counties.  For 2010 and other decennial census years, the Decennial Census provides the official counts of population and housing units.\"}"
      ]
     },
     "execution_count": 3,
     "metadata": {},
     "output_type": "execute_result"
    }
   ],
   "source": [
    "explorer.explain('2010acs5')"
   ]
  },
  {
   "cell_type": "markdown",
   "metadata": {},
   "source": [
    "To actually connect to a database resource, you create a `Connection`. A `Connection` works like a *very* simplified connection from the `sqlalchemy` world. The `Connection` class has a method, `query` that constructs a query string and requests it from the Census server. This result is then parsed into JSON and returned to the user.  "
   ]
  },
  {
   "cell_type": "code",
   "execution_count": 4,
   "metadata": {
    "collapsed": true
   },
   "outputs": [],
   "source": [
    "import cenpy.base as base"
   ]
  },
  {
   "cell_type": "code",
   "execution_count": 5,
   "metadata": {
    "collapsed": false
   },
   "outputs": [],
   "source": [
    "conn = base.Connection('2010acs5')"
   ]
  },
  {
   "cell_type": "code",
   "execution_count": 6,
   "metadata": {
    "collapsed": false
   },
   "outputs": [
    {
     "data": {
      "text/plain": [
       "Connection to 2010 American Community Survey: 5-Year Estimates (ID: 2010acs5)"
      ]
     },
     "execution_count": 6,
     "metadata": {},
     "output_type": "execute_result"
    }
   ],
   "source": [
    "conn"
   ]
  },
  {
   "cell_type": "markdown",
   "metadata": {},
   "source": [
    "That may have taken longer than you'd've expected. This is because, when the `Connection` constructor is called, it populates the connection object with a bit of metadata that makes it possible to construct queries without referring to the census handbooks. \n",
    "\n",
    "For instance, a connection's `variables` represent all available search parameters for a given dataset. "
   ]
  },
  {
   "cell_type": "code",
   "execution_count": 7,
   "metadata": {
    "collapsed": false
   },
   "outputs": [
    {
     "data": {
      "text/html": [
       "<div style=\"max-height:1000px;max-width:1500px;overflow:auto;\">\n",
       "<table border=\"1\" class=\"dataframe\">\n",
       "  <thead>\n",
       "    <tr style=\"text-align: right;\">\n",
       "      <th></th>\n",
       "      <th>concept</th>\n",
       "      <th>label</th>\n",
       "      <th>predicateOnly</th>\n",
       "      <th>predicateType</th>\n",
       "    </tr>\n",
       "  </thead>\n",
       "  <tbody>\n",
       "    <tr>\n",
       "      <th>AIANHH</th>\n",
       "      <td>Geographic Summary Level</td>\n",
       "      <td>American Indian Area/Alaska Native Area/Hawaii...</td>\n",
       "      <td>NaN</td>\n",
       "      <td>NaN</td>\n",
       "    </tr>\n",
       "    <tr>\n",
       "      <th>AIHHTLI</th>\n",
       "      <td>NaN</td>\n",
       "      <td>American Indian Trust Land/Hawaiian Home Land ...</td>\n",
       "      <td>NaN</td>\n",
       "      <td>NaN</td>\n",
       "    </tr>\n",
       "    <tr>\n",
       "      <th>AITS</th>\n",
       "      <td>NaN</td>\n",
       "      <td>American Indian Tribal Subdivision (FIPS)</td>\n",
       "      <td>NaN</td>\n",
       "      <td>NaN</td>\n",
       "    </tr>\n",
       "    <tr>\n",
       "      <th>AITSCE</th>\n",
       "      <td>NaN</td>\n",
       "      <td>American Indian Tribal Subdivision (Census)</td>\n",
       "      <td>NaN</td>\n",
       "      <td>NaN</td>\n",
       "    </tr>\n",
       "    <tr>\n",
       "      <th>ANRC</th>\n",
       "      <td>NaN</td>\n",
       "      <td>Alaska Native Regional Corporation (FIPS)</td>\n",
       "      <td>NaN</td>\n",
       "      <td>NaN</td>\n",
       "    </tr>\n",
       "  </tbody>\n",
       "</table>\n",
       "</div>"
      ],
      "text/plain": [
       "                          concept  \\\n",
       "AIANHH   Geographic Summary Level   \n",
       "AIHHTLI                       NaN   \n",
       "AITS                          NaN   \n",
       "AITSCE                        NaN   \n",
       "ANRC                          NaN   \n",
       "\n",
       "                                                     label predicateOnly  \\\n",
       "AIANHH   American Indian Area/Alaska Native Area/Hawaii...           NaN   \n",
       "AIHHTLI  American Indian Trust Land/Hawaiian Home Land ...           NaN   \n",
       "AITS             American Indian Tribal Subdivision (FIPS)           NaN   \n",
       "AITSCE         American Indian Tribal Subdivision (Census)           NaN   \n",
       "ANRC             Alaska Native Regional Corporation (FIPS)           NaN   \n",
       "\n",
       "        predicateType  \n",
       "AIANHH            NaN  \n",
       "AIHHTLI           NaN  \n",
       "AITS              NaN  \n",
       "AITSCE            NaN  \n",
       "ANRC              NaN  "
      ]
     },
     "execution_count": 7,
     "metadata": {},
     "output_type": "execute_result"
    }
   ],
   "source": [
    "conn.variables.head()"
   ]
  },
  {
   "cell_type": "markdown",
   "metadata": {},
   "source": [
    "This dataframe is populated just like the census's table describing the variables on the corresponding [api website](http://api.census.gov/data/2010/sf1/variables.html). Fortunately, this means that you can modify and filter this dataframe just like you can regular pandas dataframes, so working out what the exact codes to use in your query is easy. "
   ]
  },
  {
   "cell_type": "code",
   "execution_count": 8,
   "metadata": {
    "collapsed": false
   },
   "outputs": [],
   "source": [
    "filt = [True if 'B000' in x else False for x in conn.variables.index]"
   ]
  },
  {
   "cell_type": "code",
   "execution_count": 9,
   "metadata": {
    "collapsed": false,
    "scrolled": true
   },
   "outputs": [
    {
     "data": {
      "text/html": [
       "<div style=\"max-height:1000px;max-width:1500px;overflow:auto;\">\n",
       "<table border=\"1\" class=\"dataframe\">\n",
       "  <thead>\n",
       "    <tr style=\"text-align: right;\">\n",
       "      <th></th>\n",
       "      <th>concept</th>\n",
       "      <th>label</th>\n",
       "      <th>predicateOnly</th>\n",
       "      <th>predicateType</th>\n",
       "    </tr>\n",
       "  </thead>\n",
       "  <tbody>\n",
       "    <tr>\n",
       "      <th>B00001_001E</th>\n",
       "      <td>B00001.  Unweighted Sample Count of the Popula...</td>\n",
       "      <td>Total</td>\n",
       "      <td>NaN</td>\n",
       "      <td>NaN</td>\n",
       "    </tr>\n",
       "    <tr>\n",
       "      <th>B00001_001M</th>\n",
       "      <td>B00001.  Unweighted Sample Count of the Popula...</td>\n",
       "      <td>Margin Of Error For!!Total</td>\n",
       "      <td>NaN</td>\n",
       "      <td>NaN</td>\n",
       "    </tr>\n",
       "    <tr>\n",
       "      <th>B00002_001E</th>\n",
       "      <td>B00002.  Unweighted Sample Housing Units</td>\n",
       "      <td>Total</td>\n",
       "      <td>NaN</td>\n",
       "      <td>NaN</td>\n",
       "    </tr>\n",
       "    <tr>\n",
       "      <th>B00002_001M</th>\n",
       "      <td>B00002.  Unweighted Sample Housing Units</td>\n",
       "      <td>Margin Of Error For!!Total</td>\n",
       "      <td>NaN</td>\n",
       "      <td>NaN</td>\n",
       "    </tr>\n",
       "  </tbody>\n",
       "</table>\n",
       "</div>"
      ],
      "text/plain": [
       "                                                       concept  \\\n",
       "B00001_001E  B00001.  Unweighted Sample Count of the Popula...   \n",
       "B00001_001M  B00001.  Unweighted Sample Count of the Popula...   \n",
       "B00002_001E           B00002.  Unweighted Sample Housing Units   \n",
       "B00002_001M           B00002.  Unweighted Sample Housing Units   \n",
       "\n",
       "                                  label predicateOnly predicateType  \n",
       "B00001_001E                       Total           NaN           NaN  \n",
       "B00001_001M  Margin Of Error For!!Total           NaN           NaN  \n",
       "B00002_001E                       Total           NaN           NaN  \n",
       "B00002_001M  Margin Of Error For!!Total           NaN           NaN  "
      ]
     },
     "execution_count": 9,
     "metadata": {},
     "output_type": "execute_result"
    }
   ],
   "source": [
    "conn.variables[filt]"
   ]
  },
  {
   "cell_type": "markdown",
   "metadata": {},
   "source": [
    "Likewise, the different levels of geographic scale are determined from the metadata in the overall API listing and recorded."
   ]
  },
  {
   "cell_type": "code",
   "execution_count": 10,
   "metadata": {
    "collapsed": false,
    "scrolled": true
   },
   "outputs": [
    {
     "data": {
      "text/html": [
       "<div style=\"max-height:1000px;max-width:1500px;overflow:auto;\">\n",
       "<table border=\"1\" class=\"dataframe\">\n",
       "  <thead>\n",
       "    <tr style=\"text-align: right;\">\n",
       "      <th></th>\n",
       "      <th>geoLevelId</th>\n",
       "      <th>name</th>\n",
       "      <th>optionalWithWCFor</th>\n",
       "      <th>requires</th>\n",
       "    </tr>\n",
       "  </thead>\n",
       "  <tbody>\n",
       "    <tr>\n",
       "      <th>0</th>\n",
       "      <td>010</td>\n",
       "      <td>us</td>\n",
       "      <td>NaN</td>\n",
       "      <td>NaN</td>\n",
       "    </tr>\n",
       "    <tr>\n",
       "      <th>1</th>\n",
       "      <td>040</td>\n",
       "      <td>state</td>\n",
       "      <td>NaN</td>\n",
       "      <td>NaN</td>\n",
       "    </tr>\n",
       "    <tr>\n",
       "      <th>2</th>\n",
       "      <td>050</td>\n",
       "      <td>county</td>\n",
       "      <td>state</td>\n",
       "      <td>[state]</td>\n",
       "    </tr>\n",
       "    <tr>\n",
       "      <th>3</th>\n",
       "      <td>060</td>\n",
       "      <td>county subdivision</td>\n",
       "      <td>NaN</td>\n",
       "      <td>[state, county]</td>\n",
       "    </tr>\n",
       "    <tr>\n",
       "      <th>4</th>\n",
       "      <td>067</td>\n",
       "      <td>subminor civil subdivision</td>\n",
       "      <td>NaN</td>\n",
       "      <td>[state, county, county subdivision]</td>\n",
       "    </tr>\n",
       "    <tr>\n",
       "      <th>5</th>\n",
       "      <td>070</td>\n",
       "      <td>place</td>\n",
       "      <td>NaN</td>\n",
       "      <td>[state, county, county subdivision]</td>\n",
       "    </tr>\n",
       "    <tr>\n",
       "      <th>6</th>\n",
       "      <td>080</td>\n",
       "      <td>tract</td>\n",
       "      <td>NaN</td>\n",
       "      <td>[state, county, county subdivision, place]</td>\n",
       "    </tr>\n",
       "    <tr>\n",
       "      <th>7</th>\n",
       "      <td>140</td>\n",
       "      <td>tract</td>\n",
       "      <td>county</td>\n",
       "      <td>[state, county]</td>\n",
       "    </tr>\n",
       "    <tr>\n",
       "      <th>8</th>\n",
       "      <td>150</td>\n",
       "      <td>block group</td>\n",
       "      <td>tract</td>\n",
       "      <td>[state, county, tract]</td>\n",
       "    </tr>\n",
       "    <tr>\n",
       "      <th>9</th>\n",
       "      <td>160</td>\n",
       "      <td>place</td>\n",
       "      <td>state</td>\n",
       "      <td>[state]</td>\n",
       "    </tr>\n",
       "    <tr>\n",
       "      <th>10</th>\n",
       "      <td>250</td>\n",
       "      <td>american indian area/alaska native area/hawaii...</td>\n",
       "      <td>NaN</td>\n",
       "      <td>NaN</td>\n",
       "    </tr>\n",
       "    <tr>\n",
       "      <th>11</th>\n",
       "      <td>280</td>\n",
       "      <td>american indian area/alaska native area/hawaii...</td>\n",
       "      <td>NaN</td>\n",
       "      <td>[state]</td>\n",
       "    </tr>\n",
       "    <tr>\n",
       "      <th>12</th>\n",
       "      <td>500</td>\n",
       "      <td>congressional district</td>\n",
       "      <td>state</td>\n",
       "      <td>[state]</td>\n",
       "    </tr>\n",
       "  </tbody>\n",
       "</table>\n",
       "</div>"
      ],
      "text/plain": [
       "   geoLevelId                                               name  \\\n",
       "0         010                                                 us   \n",
       "1         040                                              state   \n",
       "2         050                                             county   \n",
       "3         060                                 county subdivision   \n",
       "4         067                         subminor civil subdivision   \n",
       "5         070                                              place   \n",
       "6         080                                              tract   \n",
       "7         140                                              tract   \n",
       "8         150                                        block group   \n",
       "9         160                                              place   \n",
       "10        250  american indian area/alaska native area/hawaii...   \n",
       "11        280  american indian area/alaska native area/hawaii...   \n",
       "12        500                             congressional district   \n",
       "\n",
       "   optionalWithWCFor                                    requires  \n",
       "0                NaN                                         NaN  \n",
       "1                NaN                                         NaN  \n",
       "2              state                                     [state]  \n",
       "3                NaN                             [state, county]  \n",
       "4                NaN         [state, county, county subdivision]  \n",
       "5                NaN         [state, county, county subdivision]  \n",
       "6                NaN  [state, county, county subdivision, place]  \n",
       "7             county                             [state, county]  \n",
       "8              tract                      [state, county, tract]  \n",
       "9              state                                     [state]  \n",
       "10               NaN                                         NaN  \n",
       "11               NaN                                     [state]  \n",
       "12             state                                     [state]  "
      ]
     },
     "execution_count": 10,
     "metadata": {},
     "output_type": "execute_result"
    }
   ],
   "source": [
    "conn.geographies"
   ]
  },
  {
   "cell_type": "markdown",
   "metadata": {},
   "source": [
    "Note that some geographies have a **required** filter to prevent drawing too much data. This will get passed to the `query` method later. "
   ]
  },
  {
   "cell_type": "markdown",
   "metadata": {},
   "source": [
    "So, let's just grab the population and margins of error from the ACS. Using the variables table above, we picked out what fields we wanted. In addition, adding the `NAME` field smart-fills the table with the name of the geographic entity being pulled from the census bureau. "
   ]
  },
  {
   "cell_type": "code",
   "execution_count": 11,
   "metadata": {
    "collapsed": true
   },
   "outputs": [],
   "source": [
    "cols = ['B00001_001E', 'B00001_001M', 'B00002_001E', 'B00002_001M', 'NAME'] "
   ]
  },
  {
   "cell_type": "markdown",
   "metadata": {},
   "source": [
    "Now the query. The query is constructed just like the API query, and works as follows. \n",
    "\n",
    "1. cols - list of columns desired from the database, maps to census API's `get=`\n",
    "2. geo_unit - string denoting the unit of study to pull, maps to census API's `in=`\n",
    "3. geo_filter - dictionary containing groupings of geo_units, if required, maps to `for=`\n",
    "    \n",
    "To be specific, a fully query tells the server *what* columns to pull of *what* underlying geography from *what* aggregation units. It's structured using these heterogeneous datatypes so it's easy to change the smallest units quickly, while providing sufficient granularity to change the filters and columns as you go. \n",
    "\n",
    "This query below grabs the names, population, and housing estimates from the ACS, as well as their standard errors from census designated places in Arizona. \n"
   ]
  },
  {
   "cell_type": "code",
   "execution_count": 12,
   "metadata": {
    "collapsed": false
   },
   "outputs": [],
   "source": [
    "data = conn.query(cols, geo_unit = 'place:*', geo_filter = {'state':'04'})"
   ]
  },
  {
   "cell_type": "markdown",
   "metadata": {},
   "source": [
    "Once constructed, the query executes as fast as your internet connection will move. This query has:"
   ]
  },
  {
   "cell_type": "code",
   "execution_count": 13,
   "metadata": {
    "collapsed": false
   },
   "outputs": [
    {
     "data": {
      "text/plain": [
       "(451, 7)"
      ]
     },
     "execution_count": 13,
     "metadata": {},
     "output_type": "execute_result"
    }
   ],
   "source": [
    "data.shape"
   ]
  },
  {
   "cell_type": "markdown",
   "metadata": {},
   "source": [
    "Seven columns and 451 rows. So, rather fast. \n",
    "\n",
    "For validity and ease of use, we store the last executed query to the object. If you're dodgy about your census API key never being shown in plaintext, never print this property!"
   ]
  },
  {
   "cell_type": "code",
   "execution_count": 14,
   "metadata": {
    "collapsed": false
   },
   "outputs": [
    {
     "data": {
      "text/plain": [
       "u'http://api.census.gov/data/2010/acs5?get=B00001_001E,B00001_001M,B00002_001E,B00002_001M,NAME&for=place:*&in=state:04'"
      ]
     },
     "execution_count": 14,
     "metadata": {},
     "output_type": "execute_result"
    }
   ],
   "source": [
    "conn.last_query"
   ]
  },
  {
   "cell_type": "markdown",
   "metadata": {},
   "source": [
    "Then, since the results are returned as a pandas dataframe, we can easily process the results. First, it's helpful to know that pandas will not automatically infer numbers from the information returned. So, if you want to convert a numeric column, first mask the data and then cast the column to an integer. \n",
    "\n",
    "Using this, I'll select all Census Designated Places in Arizona with populations above 5000."
   ]
  },
  {
   "cell_type": "code",
   "execution_count": 15,
   "metadata": {
    "collapsed": false,
    "scrolled": false
   },
   "outputs": [
    {
     "data": {
      "text/html": [
       "<div style=\"max-height:1000px;max-width:1500px;overflow:auto;\">\n",
       "<table border=\"1\" class=\"dataframe\">\n",
       "  <thead>\n",
       "    <tr style=\"text-align: right;\">\n",
       "      <th></th>\n",
       "      <th>B00001_001E</th>\n",
       "      <th>B00001_001M</th>\n",
       "      <th>B00002_001E</th>\n",
       "      <th>B00002_001M</th>\n",
       "      <th>NAME</th>\n",
       "      <th>state</th>\n",
       "      <th>place</th>\n",
       "    </tr>\n",
       "  </thead>\n",
       "  <tbody>\n",
       "    <tr>\n",
       "      <th>63</th>\n",
       "      <td>14249</td>\n",
       "      <td>-1</td>\n",
       "      <td>5698</td>\n",
       "      <td>-1</td>\n",
       "      <td>Chandler city, Arizona</td>\n",
       "      <td>04</td>\n",
       "      <td>12000</td>\n",
       "    </tr>\n",
       "    <tr>\n",
       "      <th>146</th>\n",
       "      <td>12256</td>\n",
       "      <td>-1</td>\n",
       "      <td>4335</td>\n",
       "      <td>-1</td>\n",
       "      <td>Gilbert town, Arizona</td>\n",
       "      <td>04</td>\n",
       "      <td>27400</td>\n",
       "    </tr>\n",
       "    <tr>\n",
       "      <th>148</th>\n",
       "      <td>13915</td>\n",
       "      <td>-1</td>\n",
       "      <td>5478</td>\n",
       "      <td>-1</td>\n",
       "      <td>Glendale city, Arizona</td>\n",
       "      <td>04</td>\n",
       "      <td>27820</td>\n",
       "    </tr>\n",
       "    <tr>\n",
       "      <th>224</th>\n",
       "      <td>28472</td>\n",
       "      <td>-1</td>\n",
       "      <td>12137</td>\n",
       "      <td>-1</td>\n",
       "      <td>Mesa city, Arizona</td>\n",
       "      <td>04</td>\n",
       "      <td>46000</td>\n",
       "    </tr>\n",
       "    <tr>\n",
       "      <th>266</th>\n",
       "      <td>9324</td>\n",
       "      <td>-1</td>\n",
       "      <td>3796</td>\n",
       "      <td>-1</td>\n",
       "      <td>Peoria city, Arizona</td>\n",
       "      <td>04</td>\n",
       "      <td>54050</td>\n",
       "    </tr>\n",
       "    <tr>\n",
       "      <th>268</th>\n",
       "      <td>84928</td>\n",
       "      <td>-1</td>\n",
       "      <td>34662</td>\n",
       "      <td>-1</td>\n",
       "      <td>Phoenix city, Arizona</td>\n",
       "      <td>04</td>\n",
       "      <td>55000</td>\n",
       "    </tr>\n",
       "    <tr>\n",
       "      <th>328</th>\n",
       "      <td>12973</td>\n",
       "      <td>-1</td>\n",
       "      <td>6929</td>\n",
       "      <td>-1</td>\n",
       "      <td>Scottsdale city, Arizona</td>\n",
       "      <td>04</td>\n",
       "      <td>65000</td>\n",
       "    </tr>\n",
       "    <tr>\n",
       "      <th>366</th>\n",
       "      <td>7253</td>\n",
       "      <td>-1</td>\n",
       "      <td>3042</td>\n",
       "      <td>-1</td>\n",
       "      <td>Surprise city, Arizona</td>\n",
       "      <td>04</td>\n",
       "      <td>71510</td>\n",
       "    </tr>\n",
       "    <tr>\n",
       "      <th>375</th>\n",
       "      <td>9311</td>\n",
       "      <td>-1</td>\n",
       "      <td>4151</td>\n",
       "      <td>-1</td>\n",
       "      <td>Tempe city, Arizona</td>\n",
       "      <td>04</td>\n",
       "      <td>73000</td>\n",
       "    </tr>\n",
       "    <tr>\n",
       "      <th>394</th>\n",
       "      <td>31499</td>\n",
       "      <td>-1</td>\n",
       "      <td>13967</td>\n",
       "      <td>-1</td>\n",
       "      <td>Tucson city, Arizona</td>\n",
       "      <td>04</td>\n",
       "      <td>77000</td>\n",
       "    </tr>\n",
       "    <tr>\n",
       "      <th>450</th>\n",
       "      <td>5841</td>\n",
       "      <td>-1</td>\n",
       "      <td>2215</td>\n",
       "      <td>-1</td>\n",
       "      <td>Yuma city, Arizona</td>\n",
       "      <td>04</td>\n",
       "      <td>85540</td>\n",
       "    </tr>\n",
       "  </tbody>\n",
       "</table>\n",
       "</div>"
      ],
      "text/plain": [
       "    B00001_001E B00001_001M B00002_001E B00002_001M                      NAME  \\\n",
       "63        14249          -1        5698          -1    Chandler city, Arizona   \n",
       "146       12256          -1        4335          -1     Gilbert town, Arizona   \n",
       "148       13915          -1        5478          -1    Glendale city, Arizona   \n",
       "224       28472          -1       12137          -1        Mesa city, Arizona   \n",
       "266        9324          -1        3796          -1      Peoria city, Arizona   \n",
       "268       84928          -1       34662          -1     Phoenix city, Arizona   \n",
       "328       12973          -1        6929          -1  Scottsdale city, Arizona   \n",
       "366        7253          -1        3042          -1    Surprise city, Arizona   \n",
       "375        9311          -1        4151          -1       Tempe city, Arizona   \n",
       "394       31499          -1       13967          -1      Tucson city, Arizona   \n",
       "450        5841          -1        2215          -1        Yuma city, Arizona   \n",
       "\n",
       "    state  place  \n",
       "63     04  12000  \n",
       "146    04  27400  \n",
       "148    04  27820  \n",
       "224    04  46000  \n",
       "266    04  54050  \n",
       "268    04  55000  \n",
       "328    04  65000  \n",
       "366    04  71510  \n",
       "375    04  73000  \n",
       "394    04  77000  \n",
       "450    04  85540  "
      ]
     },
     "execution_count": 15,
     "metadata": {},
     "output_type": "execute_result"
    }
   ],
   "source": [
    "data[data['B00001_001E'].fillna(0).apply(int) > 5000]"
   ]
  },
  {
   "cell_type": "markdown",
   "metadata": {
    "collapsed": true
   },
   "source": [
    "## OK, that's one API, does it work for others?"
   ]
  },
  {
   "cell_type": "markdown",
   "metadata": {},
   "source": [
    "We'll try the Economic Census"
   ]
  },
  {
   "cell_type": "code",
   "execution_count": 16,
   "metadata": {
    "collapsed": true
   },
   "outputs": [],
   "source": [
    "conn2 = base.Connection('EconCensusEWKS2012')"
   ]
  },
  {
   "cell_type": "markdown",
   "metadata": {},
   "source": [
    "Alright, let's look at the available columns:"
   ]
  },
  {
   "cell_type": "code",
   "execution_count": 17,
   "metadata": {
    "collapsed": false,
    "scrolled": true
   },
   "outputs": [],
   "source": [
    "filt2 = [True if 'Statistics' in x else False for x in conn2.variables['concept']]"
   ]
  },
  {
   "cell_type": "code",
   "execution_count": 18,
   "metadata": {
    "collapsed": false,
    "scrolled": true
   },
   "outputs": [
    {
     "data": {
      "text/html": [
       "<div style=\"max-height:1000px;max-width:1500px;overflow:auto;\">\n",
       "<table border=\"1\" class=\"dataframe\">\n",
       "  <thead>\n",
       "    <tr style=\"text-align: right;\">\n",
       "      <th></th>\n",
       "      <th>concept</th>\n",
       "      <th>label</th>\n",
       "      <th>predicateOnly</th>\n",
       "      <th>predicateType</th>\n",
       "      <th>required</th>\n",
       "    </tr>\n",
       "  </thead>\n",
       "  <tbody>\n",
       "    <tr>\n",
       "      <th>EMP</th>\n",
       "      <td>Employer Statistics</td>\n",
       "      <td>Number of employees</td>\n",
       "      <td>NaN</td>\n",
       "      <td>string</td>\n",
       "      <td>NaN</td>\n",
       "    </tr>\n",
       "    <tr>\n",
       "      <th>EMP_F</th>\n",
       "      <td>Employer Statistics</td>\n",
       "      <td>Flag for Number of employees data suppression ...</td>\n",
       "      <td>NaN</td>\n",
       "      <td>string</td>\n",
       "      <td>NaN</td>\n",
       "    </tr>\n",
       "    <tr>\n",
       "      <th>EMP_S</th>\n",
       "      <td>Employer Statistics</td>\n",
       "      <td>Standard error for estimate of number of emplo...</td>\n",
       "      <td>NaN</td>\n",
       "      <td>string</td>\n",
       "      <td>NaN</td>\n",
       "    </tr>\n",
       "    <tr>\n",
       "      <th>EMP_S_F</th>\n",
       "      <td>Employer Statistics</td>\n",
       "      <td>Flag for Standard error for estimate of number...</td>\n",
       "      <td>NaN</td>\n",
       "      <td>string</td>\n",
       "      <td>NaN</td>\n",
       "    </tr>\n",
       "    <tr>\n",
       "      <th>ESTAB</th>\n",
       "      <td>Employer Statistics</td>\n",
       "      <td>Number of establishments</td>\n",
       "      <td>NaN</td>\n",
       "      <td>string</td>\n",
       "      <td>NaN</td>\n",
       "    </tr>\n",
       "    <tr>\n",
       "      <th>ESTAB_F</th>\n",
       "      <td>Employer Statistics</td>\n",
       "      <td>Flag for Number of establishments data suppres...</td>\n",
       "      <td>NaN</td>\n",
       "      <td>string</td>\n",
       "      <td>NaN</td>\n",
       "    </tr>\n",
       "    <tr>\n",
       "      <th>NESTAB</th>\n",
       "      <td>Non Employer Statistics</td>\n",
       "      <td>Number of nonemployer establishments</td>\n",
       "      <td>NaN</td>\n",
       "      <td>string</td>\n",
       "      <td>NaN</td>\n",
       "    </tr>\n",
       "    <tr>\n",
       "      <th>NESTAB_F</th>\n",
       "      <td>Non Employer Statistics</td>\n",
       "      <td>Flag for Number of nonemployer establishments ...</td>\n",
       "      <td>NaN</td>\n",
       "      <td>string</td>\n",
       "      <td>NaN</td>\n",
       "    </tr>\n",
       "    <tr>\n",
       "      <th>NRCPTOT</th>\n",
       "      <td>Non Employer Statistics</td>\n",
       "      <td>Nonemployer value of business done ($1,000)</td>\n",
       "      <td>NaN</td>\n",
       "      <td>string</td>\n",
       "      <td>NaN</td>\n",
       "    </tr>\n",
       "    <tr>\n",
       "      <th>NRCPTOT_F</th>\n",
       "      <td>Non Employer Statistics</td>\n",
       "      <td>Flag for Nonemployer value of business done ($...</td>\n",
       "      <td>NaN</td>\n",
       "      <td>string</td>\n",
       "      <td>NaN</td>\n",
       "    </tr>\n",
       "    <tr>\n",
       "      <th>OPTAX</th>\n",
       "      <td>Employer Statistics</td>\n",
       "      <td>Type of operation or tax status code</td>\n",
       "      <td>NaN</td>\n",
       "      <td>string</td>\n",
       "      <td>True</td>\n",
       "    </tr>\n",
       "    <tr>\n",
       "      <th>PAYANN</th>\n",
       "      <td>Employer Statistics</td>\n",
       "      <td>Annual payroll ($1,000)</td>\n",
       "      <td>NaN</td>\n",
       "      <td>string</td>\n",
       "      <td>NaN</td>\n",
       "    </tr>\n",
       "    <tr>\n",
       "      <th>PAYANN_F</th>\n",
       "      <td>Employer Statistics</td>\n",
       "      <td>Flag for Annual payroll data suppression flag</td>\n",
       "      <td>NaN</td>\n",
       "      <td>string</td>\n",
       "      <td>NaN</td>\n",
       "    </tr>\n",
       "    <tr>\n",
       "      <th>PAYANN_S</th>\n",
       "      <td>Employer Statistics</td>\n",
       "      <td>Standard error for estimate of annual payroll (%)</td>\n",
       "      <td>NaN</td>\n",
       "      <td>string</td>\n",
       "      <td>NaN</td>\n",
       "    </tr>\n",
       "    <tr>\n",
       "      <th>PAYANN_S_F</th>\n",
       "      <td>Employer Statistics</td>\n",
       "      <td>Flag for Standard error for estimate of annual...</td>\n",
       "      <td>NaN</td>\n",
       "      <td>string</td>\n",
       "      <td>NaN</td>\n",
       "    </tr>\n",
       "    <tr>\n",
       "      <th>PAYQTR1</th>\n",
       "      <td>Employer Statistics</td>\n",
       "      <td>Total first quarter payroll</td>\n",
       "      <td>NaN</td>\n",
       "      <td>string</td>\n",
       "      <td>NaN</td>\n",
       "    </tr>\n",
       "    <tr>\n",
       "      <th>PAYQTR1_F</th>\n",
       "      <td>Employer Statistics</td>\n",
       "      <td>Flag for Total first quarter payroll data supp...</td>\n",
       "      <td>NaN</td>\n",
       "      <td>string</td>\n",
       "      <td>NaN</td>\n",
       "    </tr>\n",
       "    <tr>\n",
       "      <th>PAYQTR1_S</th>\n",
       "      <td>Employer Statistics</td>\n",
       "      <td>Standard error for estimate of first-quarter p...</td>\n",
       "      <td>NaN</td>\n",
       "      <td>string</td>\n",
       "      <td>NaN</td>\n",
       "    </tr>\n",
       "    <tr>\n",
       "      <th>PAYQTR1_S_F</th>\n",
       "      <td>Employer Statistics</td>\n",
       "      <td>Flag for Standard error for estimate of first-...</td>\n",
       "      <td>NaN</td>\n",
       "      <td>string</td>\n",
       "      <td>NaN</td>\n",
       "    </tr>\n",
       "    <tr>\n",
       "      <th>RCPTOT</th>\n",
       "      <td>Employer Statistics</td>\n",
       "      <td>Value of business done ($1,000)</td>\n",
       "      <td>NaN</td>\n",
       "      <td>string</td>\n",
       "      <td>NaN</td>\n",
       "    </tr>\n",
       "    <tr>\n",
       "      <th>RCPTOT_F</th>\n",
       "      <td>Employer Statistics</td>\n",
       "      <td>Flag for Value of business done data suppressi...</td>\n",
       "      <td>NaN</td>\n",
       "      <td>string</td>\n",
       "      <td>NaN</td>\n",
       "    </tr>\n",
       "    <tr>\n",
       "      <th>RCPTOT_S</th>\n",
       "      <td>Employer Statistics</td>\n",
       "      <td>Standard error for estimate of value of busine...</td>\n",
       "      <td>NaN</td>\n",
       "      <td>string</td>\n",
       "      <td>NaN</td>\n",
       "    </tr>\n",
       "    <tr>\n",
       "      <th>RCPTOT_S_F</th>\n",
       "      <td>Employer Statistics</td>\n",
       "      <td>Flag for Standard error for estimate of value ...</td>\n",
       "      <td>NaN</td>\n",
       "      <td>string</td>\n",
       "      <td>NaN</td>\n",
       "    </tr>\n",
       "    <tr>\n",
       "      <th>YEAR</th>\n",
       "      <td>Employer Statistics</td>\n",
       "      <td>Year</td>\n",
       "      <td>NaN</td>\n",
       "      <td>int</td>\n",
       "      <td>NaN</td>\n",
       "    </tr>\n",
       "  </tbody>\n",
       "</table>\n",
       "</div>"
      ],
      "text/plain": [
       "                             concept  \\\n",
       "EMP              Employer Statistics   \n",
       "EMP_F            Employer Statistics   \n",
       "EMP_S            Employer Statistics   \n",
       "EMP_S_F          Employer Statistics   \n",
       "ESTAB            Employer Statistics   \n",
       "ESTAB_F          Employer Statistics   \n",
       "NESTAB       Non Employer Statistics   \n",
       "NESTAB_F     Non Employer Statistics   \n",
       "NRCPTOT      Non Employer Statistics   \n",
       "NRCPTOT_F    Non Employer Statistics   \n",
       "OPTAX            Employer Statistics   \n",
       "PAYANN           Employer Statistics   \n",
       "PAYANN_F         Employer Statistics   \n",
       "PAYANN_S         Employer Statistics   \n",
       "PAYANN_S_F       Employer Statistics   \n",
       "PAYQTR1          Employer Statistics   \n",
       "PAYQTR1_F        Employer Statistics   \n",
       "PAYQTR1_S        Employer Statistics   \n",
       "PAYQTR1_S_F      Employer Statistics   \n",
       "RCPTOT           Employer Statistics   \n",
       "RCPTOT_F         Employer Statistics   \n",
       "RCPTOT_S         Employer Statistics   \n",
       "RCPTOT_S_F       Employer Statistics   \n",
       "YEAR             Employer Statistics   \n",
       "\n",
       "                                                         label predicateOnly  \\\n",
       "EMP                                        Number of employees           NaN   \n",
       "EMP_F        Flag for Number of employees data suppression ...           NaN   \n",
       "EMP_S        Standard error for estimate of number of emplo...           NaN   \n",
       "EMP_S_F      Flag for Standard error for estimate of number...           NaN   \n",
       "ESTAB                                 Number of establishments           NaN   \n",
       "ESTAB_F      Flag for Number of establishments data suppres...           NaN   \n",
       "NESTAB                    Number of nonemployer establishments           NaN   \n",
       "NESTAB_F     Flag for Number of nonemployer establishments ...           NaN   \n",
       "NRCPTOT            Nonemployer value of business done ($1,000)           NaN   \n",
       "NRCPTOT_F    Flag for Nonemployer value of business done ($...           NaN   \n",
       "OPTAX                     Type of operation or tax status code           NaN   \n",
       "PAYANN                                 Annual payroll ($1,000)           NaN   \n",
       "PAYANN_F         Flag for Annual payroll data suppression flag           NaN   \n",
       "PAYANN_S     Standard error for estimate of annual payroll (%)           NaN   \n",
       "PAYANN_S_F   Flag for Standard error for estimate of annual...           NaN   \n",
       "PAYQTR1                            Total first quarter payroll           NaN   \n",
       "PAYQTR1_F    Flag for Total first quarter payroll data supp...           NaN   \n",
       "PAYQTR1_S    Standard error for estimate of first-quarter p...           NaN   \n",
       "PAYQTR1_S_F  Flag for Standard error for estimate of first-...           NaN   \n",
       "RCPTOT                         Value of business done ($1,000)           NaN   \n",
       "RCPTOT_F     Flag for Value of business done data suppressi...           NaN   \n",
       "RCPTOT_S     Standard error for estimate of value of busine...           NaN   \n",
       "RCPTOT_S_F   Flag for Standard error for estimate of value ...           NaN   \n",
       "YEAR                                                      Year           NaN   \n",
       "\n",
       "            predicateType required  \n",
       "EMP                string      NaN  \n",
       "EMP_F              string      NaN  \n",
       "EMP_S              string      NaN  \n",
       "EMP_S_F            string      NaN  \n",
       "ESTAB              string      NaN  \n",
       "ESTAB_F            string      NaN  \n",
       "NESTAB             string      NaN  \n",
       "NESTAB_F           string      NaN  \n",
       "NRCPTOT            string      NaN  \n",
       "NRCPTOT_F          string      NaN  \n",
       "OPTAX              string     True  \n",
       "PAYANN             string      NaN  \n",
       "PAYANN_F           string      NaN  \n",
       "PAYANN_S           string      NaN  \n",
       "PAYANN_S_F         string      NaN  \n",
       "PAYQTR1            string      NaN  \n",
       "PAYQTR1_F          string      NaN  \n",
       "PAYQTR1_S          string      NaN  \n",
       "PAYQTR1_S_F        string      NaN  \n",
       "RCPTOT             string      NaN  \n",
       "RCPTOT_F           string      NaN  \n",
       "RCPTOT_S           string      NaN  \n",
       "RCPTOT_S_F         string      NaN  \n",
       "YEAR                  int      NaN  "
      ]
     },
     "execution_count": 18,
     "metadata": {},
     "output_type": "execute_result"
    }
   ],
   "source": [
    "conn2.variables[filt2]"
   ]
  },
  {
   "cell_type": "markdown",
   "metadata": {},
   "source": [
    "To show the required predicates, we can construct yet another filter:"
   ]
  },
  {
   "cell_type": "code",
   "execution_count": 19,
   "metadata": {
    "collapsed": false
   },
   "outputs": [],
   "source": [
    "filt3 = [True if x is True else False for x in conn2.variables['required']]"
   ]
  },
  {
   "cell_type": "code",
   "execution_count": 20,
   "metadata": {
    "collapsed": false
   },
   "outputs": [
    {
     "data": {
      "text/html": [
       "<div style=\"max-height:1000px;max-width:1500px;overflow:auto;\">\n",
       "<table border=\"1\" class=\"dataframe\">\n",
       "  <thead>\n",
       "    <tr style=\"text-align: right;\">\n",
       "      <th></th>\n",
       "      <th>concept</th>\n",
       "      <th>label</th>\n",
       "      <th>predicateOnly</th>\n",
       "      <th>predicateType</th>\n",
       "      <th>required</th>\n",
       "    </tr>\n",
       "  </thead>\n",
       "  <tbody>\n",
       "    <tr>\n",
       "      <th>NAICS2012</th>\n",
       "      <td>Industry classification</td>\n",
       "      <td>NAICS2012 industry code</td>\n",
       "      <td>NaN</td>\n",
       "      <td>string</td>\n",
       "      <td>True</td>\n",
       "    </tr>\n",
       "    <tr>\n",
       "      <th>OPTAX</th>\n",
       "      <td>Employer Statistics</td>\n",
       "      <td>Type of operation or tax status code</td>\n",
       "      <td>NaN</td>\n",
       "      <td>string</td>\n",
       "      <td>True</td>\n",
       "    </tr>\n",
       "  </tbody>\n",
       "</table>\n",
       "</div>"
      ],
      "text/plain": [
       "                           concept                                 label  \\\n",
       "NAICS2012  Industry classification               NAICS2012 industry code   \n",
       "OPTAX          Employer Statistics  Type of operation or tax status code   \n",
       "\n",
       "          predicateOnly predicateType required  \n",
       "NAICS2012           NaN        string     True  \n",
       "OPTAX               NaN        string     True  "
      ]
     },
     "execution_count": 20,
     "metadata": {},
     "output_type": "execute_result"
    }
   ],
   "source": [
    "conn2.variables[filt3]"
   ]
  },
  {
   "cell_type": "markdown",
   "metadata": {},
   "source": [
    "Like before, geographies are shown with their requirements"
   ]
  },
  {
   "cell_type": "code",
   "execution_count": 21,
   "metadata": {
    "collapsed": false
   },
   "outputs": [
    {
     "data": {
      "text/html": [
       "<div style=\"max-height:1000px;max-width:1500px;overflow:auto;\">\n",
       "<table border=\"1\" class=\"dataframe\">\n",
       "  <thead>\n",
       "    <tr style=\"text-align: right;\">\n",
       "      <th></th>\n",
       "      <th>geoLevelId</th>\n",
       "      <th>name</th>\n",
       "      <th>requires</th>\n",
       "    </tr>\n",
       "  </thead>\n",
       "  <tbody>\n",
       "    <tr>\n",
       "      <th>0</th>\n",
       "      <td>001</td>\n",
       "      <td>us</td>\n",
       "      <td>NaN</td>\n",
       "    </tr>\n",
       "    <tr>\n",
       "      <th>1</th>\n",
       "      <td>002</td>\n",
       "      <td>state</td>\n",
       "      <td>NaN</td>\n",
       "    </tr>\n",
       "    <tr>\n",
       "      <th>2</th>\n",
       "      <td>007</td>\n",
       "      <td>csa</td>\n",
       "      <td>NaN</td>\n",
       "    </tr>\n",
       "    <tr>\n",
       "      <th>3</th>\n",
       "      <td>008,009</td>\n",
       "      <td>metropolitan statistical area/micropolitan sta...</td>\n",
       "      <td>NaN</td>\n",
       "    </tr>\n",
       "    <tr>\n",
       "      <th>4</th>\n",
       "      <td>004</td>\n",
       "      <td>consolidated city</td>\n",
       "      <td>[state]</td>\n",
       "    </tr>\n",
       "    <tr>\n",
       "      <th>5</th>\n",
       "      <td>003</td>\n",
       "      <td>county</td>\n",
       "      <td>[state]</td>\n",
       "    </tr>\n",
       "    <tr>\n",
       "      <th>6</th>\n",
       "      <td>006</td>\n",
       "      <td>place</td>\n",
       "      <td>[state, county]</td>\n",
       "    </tr>\n",
       "    <tr>\n",
       "      <th>7</th>\n",
       "      <td>005</td>\n",
       "      <td>place</td>\n",
       "      <td>[state]</td>\n",
       "    </tr>\n",
       "    <tr>\n",
       "      <th>8</th>\n",
       "      <td>010</td>\n",
       "      <td>metropolitan division</td>\n",
       "      <td>[metropolitan statistical area/micropolitan st...</td>\n",
       "    </tr>\n",
       "  </tbody>\n",
       "</table>\n",
       "</div>"
      ],
      "text/plain": [
       "  geoLevelId                                               name  \\\n",
       "0        001                                                 us   \n",
       "1        002                                              state   \n",
       "2        007                                                csa   \n",
       "3    008,009  metropolitan statistical area/micropolitan sta...   \n",
       "4        004                                  consolidated city   \n",
       "5        003                                             county   \n",
       "6        006                                              place   \n",
       "7        005                                              place   \n",
       "8        010                              metropolitan division   \n",
       "\n",
       "                                            requires  \n",
       "0                                                NaN  \n",
       "1                                                NaN  \n",
       "2                                                NaN  \n",
       "3                                                NaN  \n",
       "4                                            [state]  \n",
       "5                                            [state]  \n",
       "6                                    [state, county]  \n",
       "7                                            [state]  \n",
       "8  [metropolitan statistical area/micropolitan st...  "
      ]
     },
     "execution_count": 21,
     "metadata": {},
     "output_type": "execute_result"
    }
   ],
   "source": [
    "conn2.geographies"
   ]
  },
  {
   "cell_type": "markdown",
   "metadata": {},
   "source": [
    "Here, we'll do some fun with error handling and passing of additional arguments to the query. For any \"extra\" required predicates beyond `get`, `for` and `in`, add them at the end of the query as keyword arguments. These are caught and introduced into the query following the API specifications. \n",
    "\n",
    "First, though, let's see what happens when we submit a malformed query? Here, we can query for every column in the dataset applied to places in California (`fips = 06`). The dataset we're working with, the Economic Census, requires an `OPTAX` field, which identifies the \"type of operation or tax status code\" along which to slice the data. Just like the other arguments, we will map them to keywords in the API string, and a wildcard represents a slice of all possible values. "
   ]
  },
  {
   "cell_type": "code",
   "execution_count": 22,
   "metadata": {
    "collapsed": false
   },
   "outputs": [],
   "source": [
    "cols = [x for x,y in zip(conn2.variables.index, conn2.variables['concept']) if 'Statistics' in y]"
   ]
  },
  {
   "cell_type": "code",
   "execution_count": 23,
   "metadata": {
    "collapsed": false
   },
   "outputs": [
    {
     "ename": "HTTPError",
     "evalue": "400 error: error: missing required variable/predicate: NAICS2012",
     "output_type": "error",
     "traceback": [
      "\u001b[0;31m---------------------------------------------------------------------------\u001b[0m",
      "\u001b[0;31mHTTPError\u001b[0m                                 Traceback (most recent call last)",
      "\u001b[0;32m<ipython-input-23-02419b641eed>\u001b[0m in \u001b[0;36m<module>\u001b[0;34m()\u001b[0m\n\u001b[0;32m----> 1\u001b[0;31m \u001b[0mdata2\u001b[0m \u001b[0;34m=\u001b[0m \u001b[0mconn2\u001b[0m\u001b[0;34m.\u001b[0m\u001b[0mquery\u001b[0m\u001b[0;34m(\u001b[0m\u001b[0mcols\u001b[0m\u001b[0;34m=\u001b[0m\u001b[0mcols\u001b[0m\u001b[0;34m,\u001b[0m \u001b[0mgeo_unit\u001b[0m\u001b[0;34m=\u001b[0m\u001b[0;34m'place:*'\u001b[0m\u001b[0;34m,\u001b[0m \u001b[0mgeo_filter\u001b[0m\u001b[0;34m=\u001b[0m\u001b[0;34m{\u001b[0m\u001b[0;34m'state'\u001b[0m\u001b[0;34m:\u001b[0m\u001b[0;34m'06'\u001b[0m\u001b[0;34m}\u001b[0m\u001b[0;34m,\u001b[0m \u001b[0mOPTAX\u001b[0m\u001b[0;34m=\u001b[0m\u001b[0;34m'*'\u001b[0m\u001b[0;34m)\u001b[0m\u001b[0;34m\u001b[0m\u001b[0m\n\u001b[0m",
      "\u001b[0;32m/Users/lwolf/dev/cenpy/cenpy/base.py\u001b[0m in \u001b[0;36mquery\u001b[0;34m(self, cols, geo_unit, geo_filter, apikey, **kwargs)\u001b[0m\n\u001b[1;32m     63\u001b[0m         \u001b[0;32mexcept\u001b[0m \u001b[0mValueError\u001b[0m\u001b[0;34m:\u001b[0m\u001b[0;34m\u001b[0m\u001b[0m\n\u001b[1;32m     64\u001b[0m             \u001b[0;32mif\u001b[0m \u001b[0mres\u001b[0m\u001b[0;34m.\u001b[0m\u001b[0mstatus_code\u001b[0m \u001b[0;34m==\u001b[0m \u001b[0;36m400\u001b[0m\u001b[0;34m:\u001b[0m\u001b[0;34m\u001b[0m\u001b[0m\n\u001b[0;32m---> 65\u001b[0;31m                 \u001b[0;32mraise\u001b[0m \u001b[0mr\u001b[0m\u001b[0;34m.\u001b[0m\u001b[0mHTTPError\u001b[0m\u001b[0;34m(\u001b[0m\u001b[0mstr\u001b[0m\u001b[0;34m(\u001b[0m\u001b[0mres\u001b[0m\u001b[0;34m.\u001b[0m\u001b[0mstatus_code\u001b[0m\u001b[0;34m)\u001b[0m \u001b[0;34m+\u001b[0m \u001b[0;34m' '\u001b[0m \u001b[0;34m+\u001b[0m \u001b[0;34m[\u001b[0m\u001b[0ml\u001b[0m \u001b[0;32mfor\u001b[0m \u001b[0ml\u001b[0m \u001b[0;32min\u001b[0m \u001b[0mres\u001b[0m\u001b[0;34m.\u001b[0m\u001b[0miter_lines\u001b[0m\u001b[0;34m(\u001b[0m\u001b[0;34m)\u001b[0m\u001b[0;34m]\u001b[0m\u001b[0;34m[\u001b[0m\u001b[0;36m0\u001b[0m\u001b[0;34m]\u001b[0m\u001b[0;34m)\u001b[0m\u001b[0;34m\u001b[0m\u001b[0m\n\u001b[0m\u001b[1;32m     66\u001b[0m             \u001b[0;32melse\u001b[0m\u001b[0;34m:\u001b[0m\u001b[0;34m\u001b[0m\u001b[0m\n\u001b[1;32m     67\u001b[0m                 \u001b[0mres\u001b[0m\u001b[0;34m.\u001b[0m\u001b[0mraise_for_status\u001b[0m\u001b[0;34m(\u001b[0m\u001b[0;34m)\u001b[0m\u001b[0;34m\u001b[0m\u001b[0m\n",
      "\u001b[0;31mHTTPError\u001b[0m: 400 error: error: missing required variable/predicate: NAICS2012"
     ]
    }
   ],
   "source": [
    "data2 = conn2.query(coProvidls=cols, geo_unit='place:*', geo_filter={'state':'06'}, OPTAX='*')"
   ]
  },
  {
   "cell_type": "markdown",
   "metadata": {},
   "source": [
    "So, the error provided from the census is passed through. This will tell you if you're missing required predicates, or provided predicates are not understood. Fortunately, all APIs will tell you, from the `required` field in the `variables` table, what predicates are needed as keyword arguments and exactly what predicates are not understood. Here, we see that we need to have a NAICS2012 predicate to complete the query, which is not in the query string:"
   ]
  },
  {
   "cell_type": "code",
   "execution_count": 24,
   "metadata": {
    "collapsed": false
   },
   "outputs": [
    {
     "data": {
      "text/plain": [
       "u'http://api.census.gov/data/2012/ewks?get=EMP,EMP_F,EMP_S,EMP_S_F,ESTAB,ESTAB_F,NESTAB,NESTAB_F,NRCPTOT,NRCPTOT_F,OPTAX,PAYANN,PAYANN_F,PAYANN_S,PAYANN_S_F,PAYQTR1,PAYQTR1_F,PAYQTR1_S,PAYQTR1_S_F,RCPTOT,RCPTOT_F,RCPTOT_S,RCPTOT_S_F,YEAR&OPTAX=*&for=place:*&in=state:06'"
      ]
     },
     "execution_count": 24,
     "metadata": {},
     "output_type": "execute_result"
    }
   ],
   "source": [
    "conn2.last_query"
   ]
  },
  {
   "cell_type": "markdown",
   "metadata": {},
   "source": [
    "So, let's grab this data for any NAICS code!"
   ]
  },
  {
   "cell_type": "code",
   "execution_count": 25,
   "metadata": {
    "collapsed": true
   },
   "outputs": [],
   "source": [
    "data2 = conn2.query(cols=cols, geo_unit='place:*', geo_filter={'state':'06'}, OPTAX='*', NAICS2012='*')"
   ]
  },
  {
   "cell_type": "code",
   "execution_count": 27,
   "metadata": {
    "collapsed": false
   },
   "outputs": [
    {
     "data": {
      "text/html": [
       "<div style=\"max-height:1000px;max-width:1500px;overflow:auto;\">\n",
       "<table border=\"1\" class=\"dataframe\">\n",
       "  <thead>\n",
       "    <tr style=\"text-align: right;\">\n",
       "      <th></th>\n",
       "      <th>EMP</th>\n",
       "      <th>EMP_F</th>\n",
       "      <th>EMP_S</th>\n",
       "      <th>EMP_S_F</th>\n",
       "      <th>ESTAB</th>\n",
       "      <th>ESTAB_F</th>\n",
       "      <th>NESTAB</th>\n",
       "      <th>NESTAB_F</th>\n",
       "      <th>NRCPTOT</th>\n",
       "      <th>NRCPTOT_F</th>\n",
       "      <th>...</th>\n",
       "      <th>PAYQTR1_S_F</th>\n",
       "      <th>RCPTOT</th>\n",
       "      <th>RCPTOT_F</th>\n",
       "      <th>RCPTOT_S</th>\n",
       "      <th>RCPTOT_S_F</th>\n",
       "      <th>YEAR</th>\n",
       "      <th>NAICS2012</th>\n",
       "      <th>OPTAX</th>\n",
       "      <th>state</th>\n",
       "      <th>place</th>\n",
       "    </tr>\n",
       "  </thead>\n",
       "  <tbody>\n",
       "    <tr>\n",
       "      <th>0</th>\n",
       "      <td>0</td>\n",
       "      <td>b</td>\n",
       "      <td>0</td>\n",
       "      <td>N</td>\n",
       "      <td>1</td>\n",
       "      <td></td>\n",
       "      <td>0</td>\n",
       "      <td>N</td>\n",
       "      <td>0</td>\n",
       "      <td>N</td>\n",
       "      <td>...</td>\n",
       "      <td>N</td>\n",
       "      <td>0</td>\n",
       "      <td>D</td>\n",
       "      <td>0</td>\n",
       "      <td>N</td>\n",
       "      <td>2012</td>\n",
       "      <td>42</td>\n",
       "      <td>10</td>\n",
       "      <td>06</td>\n",
       "      <td>02812</td>\n",
       "    </tr>\n",
       "    <tr>\n",
       "      <th>1</th>\n",
       "      <td>0</td>\n",
       "      <td>b</td>\n",
       "      <td>0</td>\n",
       "      <td>N</td>\n",
       "      <td>1</td>\n",
       "      <td></td>\n",
       "      <td>0</td>\n",
       "      <td>N</td>\n",
       "      <td>0</td>\n",
       "      <td>N</td>\n",
       "      <td>...</td>\n",
       "      <td>N</td>\n",
       "      <td>0</td>\n",
       "      <td>D</td>\n",
       "      <td>0</td>\n",
       "      <td>N</td>\n",
       "      <td>2012</td>\n",
       "      <td>424</td>\n",
       "      <td>10</td>\n",
       "      <td>06</td>\n",
       "      <td>02812</td>\n",
       "    </tr>\n",
       "    <tr>\n",
       "      <th>2</th>\n",
       "      <td>0</td>\n",
       "      <td>b</td>\n",
       "      <td>0</td>\n",
       "      <td>N</td>\n",
       "      <td>1</td>\n",
       "      <td></td>\n",
       "      <td>0</td>\n",
       "      <td>N</td>\n",
       "      <td>0</td>\n",
       "      <td>N</td>\n",
       "      <td>...</td>\n",
       "      <td>N</td>\n",
       "      <td>0</td>\n",
       "      <td>D</td>\n",
       "      <td>0</td>\n",
       "      <td>N</td>\n",
       "      <td>2012</td>\n",
       "      <td>4249</td>\n",
       "      <td>10</td>\n",
       "      <td>06</td>\n",
       "      <td>02812</td>\n",
       "    </tr>\n",
       "    <tr>\n",
       "      <th>3</th>\n",
       "      <td>0</td>\n",
       "      <td>b</td>\n",
       "      <td>0</td>\n",
       "      <td>N</td>\n",
       "      <td>1</td>\n",
       "      <td></td>\n",
       "      <td>0</td>\n",
       "      <td>N</td>\n",
       "      <td>0</td>\n",
       "      <td>N</td>\n",
       "      <td>...</td>\n",
       "      <td>N</td>\n",
       "      <td>0</td>\n",
       "      <td>D</td>\n",
       "      <td>0</td>\n",
       "      <td>N</td>\n",
       "      <td>2012</td>\n",
       "      <td>42493</td>\n",
       "      <td>10</td>\n",
       "      <td>06</td>\n",
       "      <td>02812</td>\n",
       "    </tr>\n",
       "    <tr>\n",
       "      <th>4</th>\n",
       "      <td>0</td>\n",
       "      <td>b</td>\n",
       "      <td>0</td>\n",
       "      <td>N</td>\n",
       "      <td>1</td>\n",
       "      <td></td>\n",
       "      <td>0</td>\n",
       "      <td>N</td>\n",
       "      <td>0</td>\n",
       "      <td>N</td>\n",
       "      <td>...</td>\n",
       "      <td>N</td>\n",
       "      <td>0</td>\n",
       "      <td>D</td>\n",
       "      <td>0</td>\n",
       "      <td>N</td>\n",
       "      <td>2012</td>\n",
       "      <td>424930</td>\n",
       "      <td>10</td>\n",
       "      <td>06</td>\n",
       "      <td>02812</td>\n",
       "    </tr>\n",
       "  </tbody>\n",
       "</table>\n",
       "<p>5 rows × 28 columns</p>\n",
       "</div>"
      ],
      "text/plain": [
       "  EMP EMP_F EMP_S EMP_S_F ESTAB ESTAB_F NESTAB NESTAB_F NRCPTOT NRCPTOT_F  \\\n",
       "0   0     b     0       N     1              0        N       0         N   \n",
       "1   0     b     0       N     1              0        N       0         N   \n",
       "2   0     b     0       N     1              0        N       0         N   \n",
       "3   0     b     0       N     1              0        N       0         N   \n",
       "4   0     b     0       N     1              0        N       0         N   \n",
       "\n",
       "   ...   PAYQTR1_S_F RCPTOT RCPTOT_F RCPTOT_S RCPTOT_S_F  YEAR NAICS2012  \\\n",
       "0  ...             N      0        D        0          N  2012        42   \n",
       "1  ...             N      0        D        0          N  2012       424   \n",
       "2  ...             N      0        D        0          N  2012      4249   \n",
       "3  ...             N      0        D        0          N  2012     42493   \n",
       "4  ...             N      0        D        0          N  2012    424930   \n",
       "\n",
       "  OPTAX state  place  \n",
       "0    10    06  02812  \n",
       "1    10    06  02812  \n",
       "2    10    06  02812  \n",
       "3    10    06  02812  \n",
       "4    10    06  02812  \n",
       "\n",
       "[5 rows x 28 columns]"
      ]
     },
     "execution_count": 27,
     "metadata": {},
     "output_type": "execute_result"
    }
   ],
   "source": [
    "data2.head()"
   ]
  },
  {
   "cell_type": "markdown",
   "metadata": {},
   "source": [
    "And so you get the table of NAICS data for employment and establishments in places in California. "
   ]
  },
  {
   "cell_type": "markdown",
   "metadata": {},
   "source": [
    "## ToDo:"
   ]
  },
  {
   "cell_type": "markdown",
   "metadata": {},
   "source": [
    "\n",
    "2. Provide joins with the geodata from the TIGER rest api\n",
    "3. Provide more convenience functions, like lookups for place and state abbreviations to fips codes?"
   ]
  }
 ],
 "metadata": {
  "kernelspec": {
   "display_name": "Python 2",
   "language": "python",
   "name": "python2"
  },
  "language_info": {
   "codemirror_mode": {
    "name": "ipython",
    "version": 2
   },
   "file_extension": ".py",
   "mimetype": "text/x-python",
   "name": "python",
   "nbconvert_exporter": "python",
   "pygments_lexer": "ipython2",
   "version": "2.7.10"
  }
 },
 "nbformat": 4,
 "nbformat_minor": 0
}
